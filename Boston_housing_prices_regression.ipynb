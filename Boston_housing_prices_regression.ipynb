{
  "nbformat": 4,
  "nbformat_minor": 0,
  "metadata": {
    "colab": {
      "name": "Boston-housing-prices-regression.ipynb",
      "version": "0.3.2",
      "provenance": [],
      "include_colab_link": true
    },
    "kernelspec": {
      "name": "python3",
      "display_name": "Python 3"
    }
  },
  "cells": [
    {
      "cell_type": "markdown",
      "metadata": {
        "id": "view-in-github",
        "colab_type": "text"
      },
      "source": [
        "<a href=\"https://colab.research.google.com/github/shadowboxingskills/notebooks/blob/master/Boston_housing_prices_regression.ipynb\" target=\"_parent\"><img src=\"https://colab.research.google.com/assets/colab-badge.svg\" alt=\"Open In Colab\"/></a>"
      ]
    },
    {
      "metadata": {
        "id": "RD01k74P4S-R",
        "colab_type": "text"
      },
      "cell_type": "markdown",
      "source": [
        "# Multiple regression example using Boston housing dataset"
      ]
    },
    {
      "metadata": {
        "id": "hKxnOwZQ4eIJ",
        "colab_type": "text"
      },
      "cell_type": "markdown",
      "source": [
        "## Import standard libraries"
      ]
    },
    {
      "metadata": {
        "id": "cQ0A9OY8lS0d",
        "colab_type": "code",
        "colab": {}
      },
      "cell_type": "code",
      "source": [
        "import numpy as np\n",
        "import pandas as pd  \n",
        "import seaborn as sns \n",
        "import matplotlib.pyplot as plt \n",
        "%matplotlib inline"
      ],
      "execution_count": 0,
      "outputs": []
    },
    {
      "metadata": {
        "id": "l2Pa_ZKv4iEj",
        "colab_type": "text"
      },
      "cell_type": "markdown",
      "source": [
        "## Import Boston housing dataset"
      ]
    },
    {
      "metadata": {
        "id": "TA3l3rKtnAEW",
        "colab_type": "code",
        "colab": {
          "base_uri": "https://localhost:8080/",
          "height": 34
        },
        "outputId": "5c0770be-a00c-47f1-ed6c-71810be33c82"
      },
      "cell_type": "code",
      "source": [
        "from sklearn.datasets import load_boston\n",
        "boston = load_boston()\n",
        "print(boston.data.shape)\n",
        "# print(boston.keys())\n",
        "# print(boston.feature_names)"
      ],
      "execution_count": 140,
      "outputs": [
        {
          "output_type": "stream",
          "text": [
            "(506, 13)\n"
          ],
          "name": "stdout"
        }
      ]
    },
    {
      "metadata": {
        "id": "8UdY8DL44z-T",
        "colab_type": "text"
      },
      "cell_type": "markdown",
      "source": [
        "## Dataset description"
      ]
    },
    {
      "metadata": {
        "id": "N0w8FVhd3Dpa",
        "colab_type": "code",
        "colab": {
          "base_uri": "https://localhost:8080/",
          "height": 904
        },
        "outputId": "10cfb97c-5cb7-4b12-c282-de356296d0f5"
      },
      "cell_type": "code",
      "source": [
        "# review the dataset description\n",
        "print(boston.DESCR)"
      ],
      "execution_count": 30,
      "outputs": [
        {
          "output_type": "stream",
          "text": [
            ".. _boston_dataset:\n",
            "\n",
            "Boston house prices dataset\n",
            "---------------------------\n",
            "\n",
            "**Data Set Characteristics:**  \n",
            "\n",
            "    :Number of Instances: 506 \n",
            "\n",
            "    :Number of Attributes: 13 numeric/categorical predictive. Median Value (attribute 14) is usually the target.\n",
            "\n",
            "    :Attribute Information (in order):\n",
            "        - CRIM     per capita crime rate by town\n",
            "        - ZN       proportion of residential land zoned for lots over 25,000 sq.ft.\n",
            "        - INDUS    proportion of non-retail business acres per town\n",
            "        - CHAS     Charles River dummy variable (= 1 if tract bounds river; 0 otherwise)\n",
            "        - NOX      nitric oxides concentration (parts per 10 million)\n",
            "        - RM       average number of rooms per dwelling\n",
            "        - AGE      proportion of owner-occupied units built prior to 1940\n",
            "        - DIS      weighted distances to five Boston employment centres\n",
            "        - RAD      index of accessibility to radial highways\n",
            "        - TAX      full-value property-tax rate per $10,000\n",
            "        - PTRATIO  pupil-teacher ratio by town\n",
            "        - B        1000(Bk - 0.63)^2 where Bk is the proportion of blacks by town\n",
            "        - LSTAT    % lower status of the population\n",
            "        - MEDV     Median value of owner-occupied homes in $1000's\n",
            "\n",
            "    :Missing Attribute Values: None\n",
            "\n",
            "    :Creator: Harrison, D. and Rubinfeld, D.L.\n",
            "\n",
            "This is a copy of UCI ML housing dataset.\n",
            "https://archive.ics.uci.edu/ml/machine-learning-databases/housing/\n",
            "\n",
            "\n",
            "This dataset was taken from the StatLib library which is maintained at Carnegie Mellon University.\n",
            "\n",
            "The Boston house-price data of Harrison, D. and Rubinfeld, D.L. 'Hedonic\n",
            "prices and the demand for clean air', J. Environ. Economics & Management,\n",
            "vol.5, 81-102, 1978.   Used in Belsley, Kuh & Welsch, 'Regression diagnostics\n",
            "...', Wiley, 1980.   N.B. Various transformations are used in the table on\n",
            "pages 244-261 of the latter.\n",
            "\n",
            "The Boston house-price data has been used in many machine learning papers that address regression\n",
            "problems.   \n",
            "     \n",
            ".. topic:: References\n",
            "\n",
            "   - Belsley, Kuh & Welsch, 'Regression diagnostics: Identifying Influential Data and Sources of Collinearity', Wiley, 1980. 244-261.\n",
            "   - Quinlan,R. (1993). Combining Instance-Based and Model-Based Learning. In Proceedings on the Tenth International Conference of Machine Learning, 236-243, University of Massachusetts, Amherst. Morgan Kaufmann.\n",
            "\n"
          ],
          "name": "stdout"
        }
      ]
    },
    {
      "metadata": {
        "id": "sxUEVcjc46Te",
        "colab_type": "text"
      },
      "cell_type": "markdown",
      "source": [
        "## Convert dataset to pandas data frame"
      ]
    },
    {
      "metadata": {
        "id": "O3X9OJ-nnjNw",
        "colab_type": "code",
        "outputId": "fa5e7dd8-214d-4fa1-b476-b0835d2a3736",
        "colab": {
          "base_uri": "https://localhost:8080/",
          "height": 204
        }
      },
      "cell_type": "code",
      "source": [
        "# load the features into a data frame\n",
        "df = pd.DataFrame(boston.data, columns=boston.feature_names)\n",
        "\n",
        "# append price target as the last column \n",
        "df['MEDV'] = boston.target\n",
        "\n",
        "df.head()"
      ],
      "execution_count": 53,
      "outputs": [
        {
          "output_type": "execute_result",
          "data": {
            "text/html": [
              "<div>\n",
              "<style scoped>\n",
              "    .dataframe tbody tr th:only-of-type {\n",
              "        vertical-align: middle;\n",
              "    }\n",
              "\n",
              "    .dataframe tbody tr th {\n",
              "        vertical-align: top;\n",
              "    }\n",
              "\n",
              "    .dataframe thead th {\n",
              "        text-align: right;\n",
              "    }\n",
              "</style>\n",
              "<table border=\"1\" class=\"dataframe\">\n",
              "  <thead>\n",
              "    <tr style=\"text-align: right;\">\n",
              "      <th></th>\n",
              "      <th>CRIM</th>\n",
              "      <th>ZN</th>\n",
              "      <th>INDUS</th>\n",
              "      <th>CHAS</th>\n",
              "      <th>NOX</th>\n",
              "      <th>RM</th>\n",
              "      <th>AGE</th>\n",
              "      <th>DIS</th>\n",
              "      <th>RAD</th>\n",
              "      <th>TAX</th>\n",
              "      <th>PTRATIO</th>\n",
              "      <th>B</th>\n",
              "      <th>LSTAT</th>\n",
              "      <th>MEDV</th>\n",
              "    </tr>\n",
              "  </thead>\n",
              "  <tbody>\n",
              "    <tr>\n",
              "      <th>0</th>\n",
              "      <td>0.0</td>\n",
              "      <td>18.0</td>\n",
              "      <td>2.3</td>\n",
              "      <td>0.0</td>\n",
              "      <td>0.5</td>\n",
              "      <td>6.6</td>\n",
              "      <td>65.2</td>\n",
              "      <td>4.1</td>\n",
              "      <td>1.0</td>\n",
              "      <td>296.0</td>\n",
              "      <td>15.3</td>\n",
              "      <td>396.9</td>\n",
              "      <td>5.0</td>\n",
              "      <td>24.0</td>\n",
              "    </tr>\n",
              "    <tr>\n",
              "      <th>1</th>\n",
              "      <td>0.0</td>\n",
              "      <td>0.0</td>\n",
              "      <td>7.1</td>\n",
              "      <td>0.0</td>\n",
              "      <td>0.5</td>\n",
              "      <td>6.4</td>\n",
              "      <td>78.9</td>\n",
              "      <td>5.0</td>\n",
              "      <td>2.0</td>\n",
              "      <td>242.0</td>\n",
              "      <td>17.8</td>\n",
              "      <td>396.9</td>\n",
              "      <td>9.1</td>\n",
              "      <td>21.6</td>\n",
              "    </tr>\n",
              "    <tr>\n",
              "      <th>2</th>\n",
              "      <td>0.0</td>\n",
              "      <td>0.0</td>\n",
              "      <td>7.1</td>\n",
              "      <td>0.0</td>\n",
              "      <td>0.5</td>\n",
              "      <td>7.2</td>\n",
              "      <td>61.1</td>\n",
              "      <td>5.0</td>\n",
              "      <td>2.0</td>\n",
              "      <td>242.0</td>\n",
              "      <td>17.8</td>\n",
              "      <td>392.8</td>\n",
              "      <td>4.0</td>\n",
              "      <td>34.7</td>\n",
              "    </tr>\n",
              "    <tr>\n",
              "      <th>3</th>\n",
              "      <td>0.0</td>\n",
              "      <td>0.0</td>\n",
              "      <td>2.2</td>\n",
              "      <td>0.0</td>\n",
              "      <td>0.5</td>\n",
              "      <td>7.0</td>\n",
              "      <td>45.8</td>\n",
              "      <td>6.1</td>\n",
              "      <td>3.0</td>\n",
              "      <td>222.0</td>\n",
              "      <td>18.7</td>\n",
              "      <td>394.6</td>\n",
              "      <td>2.9</td>\n",
              "      <td>33.4</td>\n",
              "    </tr>\n",
              "    <tr>\n",
              "      <th>4</th>\n",
              "      <td>0.1</td>\n",
              "      <td>0.0</td>\n",
              "      <td>2.2</td>\n",
              "      <td>0.0</td>\n",
              "      <td>0.5</td>\n",
              "      <td>7.1</td>\n",
              "      <td>54.2</td>\n",
              "      <td>6.1</td>\n",
              "      <td>3.0</td>\n",
              "      <td>222.0</td>\n",
              "      <td>18.7</td>\n",
              "      <td>396.9</td>\n",
              "      <td>5.3</td>\n",
              "      <td>36.2</td>\n",
              "    </tr>\n",
              "  </tbody>\n",
              "</table>\n",
              "</div>"
            ],
            "text/plain": [
              "   CRIM   ZN  INDUS  CHAS  NOX  RM  AGE  DIS  RAD   TAX  PTRATIO     B  LSTAT  \\\n",
              "0   0.0 18.0    2.3   0.0  0.5 6.6 65.2  4.1  1.0 296.0     15.3 396.9    5.0   \n",
              "1   0.0  0.0    7.1   0.0  0.5 6.4 78.9  5.0  2.0 242.0     17.8 396.9    9.1   \n",
              "2   0.0  0.0    7.1   0.0  0.5 7.2 61.1  5.0  2.0 242.0     17.8 392.8    4.0   \n",
              "3   0.0  0.0    2.2   0.0  0.5 7.0 45.8  6.1  3.0 222.0     18.7 394.6    2.9   \n",
              "4   0.1  0.0    2.2   0.0  0.5 7.1 54.2  6.1  3.0 222.0     18.7 396.9    5.3   \n",
              "\n",
              "   MEDV  \n",
              "0  24.0  \n",
              "1  21.6  \n",
              "2  34.7  \n",
              "3  33.4  \n",
              "4  36.2  "
            ]
          },
          "metadata": {
            "tags": []
          },
          "execution_count": 53
        }
      ]
    },
    {
      "metadata": {
        "id": "cTRZnF58Fp6z",
        "colab_type": "code",
        "colab": {
          "base_uri": "https://localhost:8080/",
          "height": 297
        },
        "outputId": "ef2b8600-e914-4c55-eead-7930f030bd0e"
      },
      "cell_type": "code",
      "source": [
        "pd.options.display.float_format = '{:.1f}'.format\n",
        "df.describe()"
      ],
      "execution_count": 54,
      "outputs": [
        {
          "output_type": "execute_result",
          "data": {
            "text/html": [
              "<div>\n",
              "<style scoped>\n",
              "    .dataframe tbody tr th:only-of-type {\n",
              "        vertical-align: middle;\n",
              "    }\n",
              "\n",
              "    .dataframe tbody tr th {\n",
              "        vertical-align: top;\n",
              "    }\n",
              "\n",
              "    .dataframe thead th {\n",
              "        text-align: right;\n",
              "    }\n",
              "</style>\n",
              "<table border=\"1\" class=\"dataframe\">\n",
              "  <thead>\n",
              "    <tr style=\"text-align: right;\">\n",
              "      <th></th>\n",
              "      <th>CRIM</th>\n",
              "      <th>ZN</th>\n",
              "      <th>INDUS</th>\n",
              "      <th>CHAS</th>\n",
              "      <th>NOX</th>\n",
              "      <th>RM</th>\n",
              "      <th>AGE</th>\n",
              "      <th>DIS</th>\n",
              "      <th>RAD</th>\n",
              "      <th>TAX</th>\n",
              "      <th>PTRATIO</th>\n",
              "      <th>B</th>\n",
              "      <th>LSTAT</th>\n",
              "      <th>MEDV</th>\n",
              "    </tr>\n",
              "  </thead>\n",
              "  <tbody>\n",
              "    <tr>\n",
              "      <th>count</th>\n",
              "      <td>506.0</td>\n",
              "      <td>506.0</td>\n",
              "      <td>506.0</td>\n",
              "      <td>506.0</td>\n",
              "      <td>506.0</td>\n",
              "      <td>506.0</td>\n",
              "      <td>506.0</td>\n",
              "      <td>506.0</td>\n",
              "      <td>506.0</td>\n",
              "      <td>506.0</td>\n",
              "      <td>506.0</td>\n",
              "      <td>506.0</td>\n",
              "      <td>506.0</td>\n",
              "      <td>506.0</td>\n",
              "    </tr>\n",
              "    <tr>\n",
              "      <th>mean</th>\n",
              "      <td>3.6</td>\n",
              "      <td>11.4</td>\n",
              "      <td>11.1</td>\n",
              "      <td>0.1</td>\n",
              "      <td>0.6</td>\n",
              "      <td>6.3</td>\n",
              "      <td>68.6</td>\n",
              "      <td>3.8</td>\n",
              "      <td>9.5</td>\n",
              "      <td>408.2</td>\n",
              "      <td>18.5</td>\n",
              "      <td>356.7</td>\n",
              "      <td>12.7</td>\n",
              "      <td>22.5</td>\n",
              "    </tr>\n",
              "    <tr>\n",
              "      <th>std</th>\n",
              "      <td>8.6</td>\n",
              "      <td>23.3</td>\n",
              "      <td>6.9</td>\n",
              "      <td>0.3</td>\n",
              "      <td>0.1</td>\n",
              "      <td>0.7</td>\n",
              "      <td>28.1</td>\n",
              "      <td>2.1</td>\n",
              "      <td>8.7</td>\n",
              "      <td>168.5</td>\n",
              "      <td>2.2</td>\n",
              "      <td>91.3</td>\n",
              "      <td>7.1</td>\n",
              "      <td>9.2</td>\n",
              "    </tr>\n",
              "    <tr>\n",
              "      <th>min</th>\n",
              "      <td>0.0</td>\n",
              "      <td>0.0</td>\n",
              "      <td>0.5</td>\n",
              "      <td>0.0</td>\n",
              "      <td>0.4</td>\n",
              "      <td>3.6</td>\n",
              "      <td>2.9</td>\n",
              "      <td>1.1</td>\n",
              "      <td>1.0</td>\n",
              "      <td>187.0</td>\n",
              "      <td>12.6</td>\n",
              "      <td>0.3</td>\n",
              "      <td>1.7</td>\n",
              "      <td>5.0</td>\n",
              "    </tr>\n",
              "    <tr>\n",
              "      <th>25%</th>\n",
              "      <td>0.1</td>\n",
              "      <td>0.0</td>\n",
              "      <td>5.2</td>\n",
              "      <td>0.0</td>\n",
              "      <td>0.4</td>\n",
              "      <td>5.9</td>\n",
              "      <td>45.0</td>\n",
              "      <td>2.1</td>\n",
              "      <td>4.0</td>\n",
              "      <td>279.0</td>\n",
              "      <td>17.4</td>\n",
              "      <td>375.4</td>\n",
              "      <td>6.9</td>\n",
              "      <td>17.0</td>\n",
              "    </tr>\n",
              "    <tr>\n",
              "      <th>50%</th>\n",
              "      <td>0.3</td>\n",
              "      <td>0.0</td>\n",
              "      <td>9.7</td>\n",
              "      <td>0.0</td>\n",
              "      <td>0.5</td>\n",
              "      <td>6.2</td>\n",
              "      <td>77.5</td>\n",
              "      <td>3.2</td>\n",
              "      <td>5.0</td>\n",
              "      <td>330.0</td>\n",
              "      <td>19.1</td>\n",
              "      <td>391.4</td>\n",
              "      <td>11.4</td>\n",
              "      <td>21.2</td>\n",
              "    </tr>\n",
              "    <tr>\n",
              "      <th>75%</th>\n",
              "      <td>3.7</td>\n",
              "      <td>12.5</td>\n",
              "      <td>18.1</td>\n",
              "      <td>0.0</td>\n",
              "      <td>0.6</td>\n",
              "      <td>6.6</td>\n",
              "      <td>94.1</td>\n",
              "      <td>5.2</td>\n",
              "      <td>24.0</td>\n",
              "      <td>666.0</td>\n",
              "      <td>20.2</td>\n",
              "      <td>396.2</td>\n",
              "      <td>17.0</td>\n",
              "      <td>25.0</td>\n",
              "    </tr>\n",
              "    <tr>\n",
              "      <th>max</th>\n",
              "      <td>89.0</td>\n",
              "      <td>100.0</td>\n",
              "      <td>27.7</td>\n",
              "      <td>1.0</td>\n",
              "      <td>0.9</td>\n",
              "      <td>8.8</td>\n",
              "      <td>100.0</td>\n",
              "      <td>12.1</td>\n",
              "      <td>24.0</td>\n",
              "      <td>711.0</td>\n",
              "      <td>22.0</td>\n",
              "      <td>396.9</td>\n",
              "      <td>38.0</td>\n",
              "      <td>50.0</td>\n",
              "    </tr>\n",
              "  </tbody>\n",
              "</table>\n",
              "</div>"
            ],
            "text/plain": [
              "       CRIM    ZN  INDUS  CHAS   NOX    RM   AGE   DIS   RAD   TAX  PTRATIO  \\\n",
              "count 506.0 506.0  506.0 506.0 506.0 506.0 506.0 506.0 506.0 506.0    506.0   \n",
              "mean    3.6  11.4   11.1   0.1   0.6   6.3  68.6   3.8   9.5 408.2     18.5   \n",
              "std     8.6  23.3    6.9   0.3   0.1   0.7  28.1   2.1   8.7 168.5      2.2   \n",
              "min     0.0   0.0    0.5   0.0   0.4   3.6   2.9   1.1   1.0 187.0     12.6   \n",
              "25%     0.1   0.0    5.2   0.0   0.4   5.9  45.0   2.1   4.0 279.0     17.4   \n",
              "50%     0.3   0.0    9.7   0.0   0.5   6.2  77.5   3.2   5.0 330.0     19.1   \n",
              "75%     3.7  12.5   18.1   0.0   0.6   6.6  94.1   5.2  24.0 666.0     20.2   \n",
              "max    89.0 100.0   27.7   1.0   0.9   8.8 100.0  12.1  24.0 711.0     22.0   \n",
              "\n",
              "          B  LSTAT  MEDV  \n",
              "count 506.0  506.0 506.0  \n",
              "mean  356.7   12.7  22.5  \n",
              "std    91.3    7.1   9.2  \n",
              "min     0.3    1.7   5.0  \n",
              "25%   375.4    6.9  17.0  \n",
              "50%   391.4   11.4  21.2  \n",
              "75%   396.2   17.0  25.0  \n",
              "max   396.9   38.0  50.0  "
            ]
          },
          "metadata": {
            "tags": []
          },
          "execution_count": 54
        }
      ]
    },
    {
      "metadata": {
        "id": "LfaGLIE24-mb",
        "colab_type": "text"
      },
      "cell_type": "markdown",
      "source": [
        "## Data preprocessing"
      ]
    },
    {
      "metadata": {
        "id": "8jn39Lu24OxJ",
        "colab_type": "code",
        "colab": {}
      },
      "cell_type": "code",
      "source": [
        "from sklearn.model_selection import train_test_split"
      ],
      "execution_count": 0,
      "outputs": []
    },
    {
      "metadata": {
        "id": "qeeYXJCoBrUf",
        "colab_type": "code",
        "colab": {}
      },
      "cell_type": "code",
      "source": [
        "X = df.drop('MEDV', axis=1)\n",
        "y = df['MEDV']"
      ],
      "execution_count": 0,
      "outputs": []
    },
    {
      "metadata": {
        "id": "4dqKh8cNZDZI",
        "colab_type": "text"
      },
      "cell_type": "markdown",
      "source": [
        "## Split the data into training/testing sets"
      ]
    },
    {
      "metadata": {
        "id": "xETuAPu064I7",
        "colab_type": "code",
        "colab": {}
      },
      "cell_type": "code",
      "source": [
        "# Split the data into training/testing sets\n",
        "X_train, X_test, y_train, y_test = train_test_split(X, y, test_size=1/3, random_state=42)"
      ],
      "execution_count": 0,
      "outputs": []
    },
    {
      "metadata": {
        "id": "jcuitkRaLy87",
        "colab_type": "code",
        "colab": {
          "base_uri": "https://localhost:8080/",
          "height": 85
        },
        "outputId": "253826ab-b627-4372-b622-b98794d7c8a8"
      },
      "cell_type": "code",
      "source": [
        "print(X_train.shape)\n",
        "print(X_test.shape)\n",
        "print(y_train.shape)\n",
        "print(y_test.shape)"
      ],
      "execution_count": 117,
      "outputs": [
        {
          "output_type": "stream",
          "text": [
            "(337, 13)\n",
            "(169, 13)\n",
            "(337,)\n",
            "(169,)\n"
          ],
          "name": "stdout"
        }
      ]
    },
    {
      "metadata": {
        "id": "u9q4z1BeX2VN",
        "colab_type": "text"
      },
      "cell_type": "markdown",
      "source": [
        "## Train the model using the training set"
      ]
    },
    {
      "metadata": {
        "id": "9kdP7MhLMQgj",
        "colab_type": "code",
        "colab": {
          "base_uri": "https://localhost:8080/",
          "height": 119
        },
        "outputId": "95142317-dff3-4672-b749-38bab1785750"
      },
      "cell_type": "code",
      "source": [
        "from sklearn.linear_model import LinearRegression\n",
        "from sklearn.metrics import mean_squared_error, r2_score\n",
        "\n",
        "# Create linear regression object\n",
        "regressor = LinearRegression()\n",
        "\n",
        "# Train the model using the training set\n",
        "regressor.fit(X_train, y_train)\n",
        "\n",
        "# Returns the coefficient of determination R^2 of the prediction\n",
        "print(\"Regressor score:\", regressor.score(X_train, y_train))\n",
        "\n",
        "# The coefficients\n",
        "print(\"Regressor coefficients:\", regressor.coef_)\n",
        "\n",
        "# The intercept\n",
        "print(\"Regressor intercept:\", regressor.intercept_)"
      ],
      "execution_count": 135,
      "outputs": [
        {
          "output_type": "stream",
          "text": [
            "Regressor score: 0.7389831456966496\n",
            "Regressor coefficients: [-1.29469552e-01  3.79597901e-02  6.09783935e-02  3.21349778e+00\n",
            " -1.64996136e+01  3.91151860e+00 -1.26019052e-02 -1.42774164e+00\n",
            "  2.39545629e-01 -8.17982439e-03 -9.35991036e-01  1.19478911e-02\n",
            " -5.46562433e-01]\n",
            "Regressor intercept: 33.440834273883674\n"
          ],
          "name": "stdout"
        }
      ]
    },
    {
      "metadata": {
        "id": "WlfKlDXiX_O3",
        "colab_type": "text"
      },
      "cell_type": "markdown",
      "source": [
        "## Make predictions using the testing set"
      ]
    },
    {
      "metadata": {
        "id": "9M6pt0JnYDO4",
        "colab_type": "code",
        "colab": {
          "base_uri": "https://localhost:8080/",
          "height": 51
        },
        "outputId": "a15a2941-02ca-4152-aa56-189a98b7934a"
      },
      "cell_type": "code",
      "source": [
        "# Make predictions using the testing set\n",
        "y_pred = regressor.predict(X_test)\n",
        "\n",
        "# The mean squared error\n",
        "print(\"Mean squared error: %.2f\" % mean_squared_error(y_test, y_pred))\n",
        "\n",
        "# Explained variance score: 1 is perfect prediction\n",
        "print('Variance score: %.2f' % r2_score(y_test, y_pred))"
      ],
      "execution_count": 137,
      "outputs": [
        {
          "output_type": "stream",
          "text": [
            "Mean squared error: 20.60\n",
            "Variance score: 0.73\n"
          ],
          "name": "stdout"
        }
      ]
    },
    {
      "metadata": {
        "id": "PBkkcv0rYHQE",
        "colab_type": "text"
      },
      "cell_type": "markdown",
      "source": [
        "## Plot the actual vs. predicted price values"
      ]
    },
    {
      "metadata": {
        "id": "Q2svG7DTP7FF",
        "colab_type": "code",
        "colab": {
          "base_uri": "https://localhost:8080/",
          "height": 303
        },
        "outputId": "fff3000e-dad2-42b4-ac30-172d1c9e2b29"
      },
      "cell_type": "code",
      "source": [
        "plt.scatter(y_test, y_pred)\n",
        "plt.xlabel(\"Actual MEDV, $y$\")\n",
        "plt.ylabel(\"Predicted MEDV, $\\hat{y}$\")\n",
        "plt.title(\"Actual vs. Predicted price values, $y$ vs. $\\hat{y}$\")\n",
        "plt.show()"
      ],
      "execution_count": 138,
      "outputs": [
        {
          "output_type": "display_data",
          "data": {
            "image/png": "[encoded data removed]",
            "text/plain": [
              "<matplotlib.figure.Figure at 0x7f05ab224ac8>"
            ]
          },
          "metadata": {
            "tags": []
          }
        }
      ]
    },
    {
      "metadata": {
        "id": "emBbhcyTYgIz",
        "colab_type": "text"
      },
      "cell_type": "markdown",
      "source": [
        "## Make ad-hoc predictions"
      ]
    },
    {
      "metadata": {
        "id": "dFRmlRI6WsMO",
        "colab_type": "code",
        "colab": {
          "base_uri": "https://localhost:8080/",
          "height": 204
        },
        "outputId": "6d025c36-9d25-433c-f34b-e7576c034e4f"
      },
      "cell_type": "code",
      "source": [
        "X[:5]"
      ],
      "execution_count": 133,
      "outputs": [
        {
          "output_type": "execute_result",
          "data": {
            "text/html": [
              "<div>\n",
              "<style scoped>\n",
              "    .dataframe tbody tr th:only-of-type {\n",
              "        vertical-align: middle;\n",
              "    }\n",
              "\n",
              "    .dataframe tbody tr th {\n",
              "        vertical-align: top;\n",
              "    }\n",
              "\n",
              "    .dataframe thead th {\n",
              "        text-align: right;\n",
              "    }\n",
              "</style>\n",
              "<table border=\"1\" class=\"dataframe\">\n",
              "  <thead>\n",
              "    <tr style=\"text-align: right;\">\n",
              "      <th></th>\n",
              "      <th>CRIM</th>\n",
              "      <th>ZN</th>\n",
              "      <th>INDUS</th>\n",
              "      <th>CHAS</th>\n",
              "      <th>NOX</th>\n",
              "      <th>RM</th>\n",
              "      <th>AGE</th>\n",
              "      <th>DIS</th>\n",
              "      <th>RAD</th>\n",
              "      <th>TAX</th>\n",
              "      <th>PTRATIO</th>\n",
              "      <th>B</th>\n",
              "      <th>LSTAT</th>\n",
              "    </tr>\n",
              "  </thead>\n",
              "  <tbody>\n",
              "    <tr>\n",
              "      <th>0</th>\n",
              "      <td>0.0</td>\n",
              "      <td>18.0</td>\n",
              "      <td>2.3</td>\n",
              "      <td>0.0</td>\n",
              "      <td>0.5</td>\n",
              "      <td>6.6</td>\n",
              "      <td>65.2</td>\n",
              "      <td>4.1</td>\n",
              "      <td>1.0</td>\n",
              "      <td>296.0</td>\n",
              "      <td>15.3</td>\n",
              "      <td>396.9</td>\n",
              "      <td>5.0</td>\n",
              "    </tr>\n",
              "    <tr>\n",
              "      <th>1</th>\n",
              "      <td>0.0</td>\n",
              "      <td>0.0</td>\n",
              "      <td>7.1</td>\n",
              "      <td>0.0</td>\n",
              "      <td>0.5</td>\n",
              "      <td>6.4</td>\n",
              "      <td>78.9</td>\n",
              "      <td>5.0</td>\n",
              "      <td>2.0</td>\n",
              "      <td>242.0</td>\n",
              "      <td>17.8</td>\n",
              "      <td>396.9</td>\n",
              "      <td>9.1</td>\n",
              "    </tr>\n",
              "    <tr>\n",
              "      <th>2</th>\n",
              "      <td>0.0</td>\n",
              "      <td>0.0</td>\n",
              "      <td>7.1</td>\n",
              "      <td>0.0</td>\n",
              "      <td>0.5</td>\n",
              "      <td>7.2</td>\n",
              "      <td>61.1</td>\n",
              "      <td>5.0</td>\n",
              "      <td>2.0</td>\n",
              "      <td>242.0</td>\n",
              "      <td>17.8</td>\n",
              "      <td>392.8</td>\n",
              "      <td>4.0</td>\n",
              "    </tr>\n",
              "    <tr>\n",
              "      <th>3</th>\n",
              "      <td>0.0</td>\n",
              "      <td>0.0</td>\n",
              "      <td>2.2</td>\n",
              "      <td>0.0</td>\n",
              "      <td>0.5</td>\n",
              "      <td>7.0</td>\n",
              "      <td>45.8</td>\n",
              "      <td>6.1</td>\n",
              "      <td>3.0</td>\n",
              "      <td>222.0</td>\n",
              "      <td>18.7</td>\n",
              "      <td>394.6</td>\n",
              "      <td>2.9</td>\n",
              "    </tr>\n",
              "    <tr>\n",
              "      <th>4</th>\n",
              "      <td>0.1</td>\n",
              "      <td>0.0</td>\n",
              "      <td>2.2</td>\n",
              "      <td>0.0</td>\n",
              "      <td>0.5</td>\n",
              "      <td>7.1</td>\n",
              "      <td>54.2</td>\n",
              "      <td>6.1</td>\n",
              "      <td>3.0</td>\n",
              "      <td>222.0</td>\n",
              "      <td>18.7</td>\n",
              "      <td>396.9</td>\n",
              "      <td>5.3</td>\n",
              "    </tr>\n",
              "  </tbody>\n",
              "</table>\n",
              "</div>"
            ],
            "text/plain": [
              "   CRIM   ZN  INDUS  CHAS  NOX  RM  AGE  DIS  RAD   TAX  PTRATIO     B  LSTAT\n",
              "0   0.0 18.0    2.3   0.0  0.5 6.6 65.2  4.1  1.0 296.0     15.3 396.9    5.0\n",
              "1   0.0  0.0    7.1   0.0  0.5 6.4 78.9  5.0  2.0 242.0     17.8 396.9    9.1\n",
              "2   0.0  0.0    7.1   0.0  0.5 7.2 61.1  5.0  2.0 242.0     17.8 392.8    4.0\n",
              "3   0.0  0.0    2.2   0.0  0.5 7.0 45.8  6.1  3.0 222.0     18.7 394.6    2.9\n",
              "4   0.1  0.0    2.2   0.0  0.5 7.1 54.2  6.1  3.0 222.0     18.7 396.9    5.3"
            ]
          },
          "metadata": {
            "tags": []
          },
          "execution_count": 133
        }
      ]
    },
    {
      "metadata": {
        "id": "tJiavbXNWd_R",
        "colab_type": "code",
        "colab": {
          "base_uri": "https://localhost:8080/",
          "height": 34
        },
        "outputId": "4360753d-777b-4aa6-b5ee-8c9638d2e7dd"
      },
      "cell_type": "code",
      "source": [
        "X_input = X[:5]\n",
        "\n",
        "# Make predictions using the testing set\n",
        "y_pred = regressor.predict(X_input)\n",
        "\n",
        "print(y_pred)"
      ],
      "execution_count": 134,
      "outputs": [
        {
          "output_type": "stream",
          "text": [
            "[29.96237934 24.74540272 30.70242555 28.66092399 27.85397281]\n"
          ],
          "name": "stdout"
        }
      ]
    }
  ]
}